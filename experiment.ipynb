{
 "cells": [
  {
   "cell_type": "code",
   "execution_count": 1,
   "metadata": {},
   "outputs": [],
   "source": [
    "import numpy as np \n",
    "from sklearn.neighbors import KDTree\n",
    "import pickle\n",
    "from tqdm import tqdm\n",
    "from numpy import random,argsort,sqrt\n",
    "from scipy.spatial import distance"
   ]
  },
  {
   "cell_type": "code",
   "execution_count": null,
   "metadata": {},
   "outputs": [],
   "source": [
    "path = '/Users/deepthought/Desktop/metapath2vec_embeddings.txt'\n",
    "\n",
    "with open('metapath2vec/user_prod_dict_mod.pickle', 'rb') as file:\n",
    "        up = pickle.load(file)\n",
    "with open('metapath2vec/prod_user_dict.pickle', 'rb') as file:\n",
    "        pu = pickle.load(file)"
   ]
  },
  {
   "cell_type": "code",
   "execution_count": 19,
   "metadata": {},
   "outputs": [],
   "source": [
    "\n",
    "def read_meta_feat(path, u_list, p_list):\n",
    "    prods = {}\n",
    "    users = {}\n",
    "    with open(path, 'rb') as file:\n",
    "        i = 0\n",
    "        for line in (file):\n",
    "            if i <= 1:\n",
    "                i += 1\n",
    "                continue\n",
    "            if i == 1000:\n",
    "                break\n",
    "            i += 1\n",
    "            temp = line.decode()\n",
    "            temp = temp.split()\n",
    "            if temp[0] in u_list:\n",
    "                users[temp[0]] = [float(j) for j in temp[1:]]\n",
    "            elif temp[0] in p_list:\n",
    "                prods[temp[0]] = [float(j) for j in temp[1:]]\n",
    "            else:\n",
    "                print(temp[0])\n",
    "    print('Users = {} Products = {}'.format(len(users), len(prods)))\n",
    "    return users, prods"
   ]
  },
  {
   "cell_type": "code",
   "execution_count": 20,
   "metadata": {},
   "outputs": [],
   "source": [
    "def nearest_product(users, prods, up):\n",
    "    X = []\n",
    "    pid = []\n",
    "    for prod in tqdm(prods):\n",
    "        pid.append(prod)\n",
    "        X.append(prods[prod])\n",
    "    X = np.array(X)\n",
    "    i = 0\n",
    "    while(i<=20):\n",
    "        avg_count = 0\n",
    "        for user in users:\n",
    "            prod_ids = knn_search(users[user], X, i)\n",
    "            count = 0\n",
    "            for idx in prod_ids:\n",
    "                if pid[idx] in up[user]:\n",
    "                    count += 1\n",
    "            avg_count += count\n",
    "        print('{}  {}'.format(i, avg_count/len(users)))\n",
    "        i += 5\n",
    "\n",
    "def knn_search(x, D, K):\n",
    "    d = []\n",
    "    for i in D:\n",
    "        d.append(distance.cosine(x, i))\n",
    "    idx = argsort(d) # sorting\n",
    "    return idx[:K]"
   ]
  },
  {
   "cell_type": "code",
   "execution_count": 21,
   "metadata": {},
   "outputs": [
    {
     "name": "stdout",
     "output_type": "stream",
     "text": [
      "Users = 57 Products = 941\n"
     ]
    }
   ],
   "source": [
    "users, prods = read_meta_feat(path = path, u_list = list(up.keys()), p_list = list(pu.keys()))"
   ]
  },
  {
   "cell_type": "code",
   "execution_count": 22,
   "metadata": {},
   "outputs": [
    {
     "name": "stderr",
     "output_type": "stream",
     "text": [
      "\n",
      "\n",
      "  0%|          | 0/941 [00:00<?, ?it/s]\u001b[A\u001b[A\n",
      "\n",
      "100%|██████████| 941/941 [00:00<00:00, 393896.21it/s]\u001b[A\u001b[A"
     ]
    },
    {
     "name": "stdout",
     "output_type": "stream",
     "text": [
      "0  0.0\n",
      "5  0.03508771929824561\n",
      "10  0.07017543859649122\n",
      "15  0.07017543859649122\n",
      "20  0.08771929824561403\n"
     ]
    }
   ],
   "source": [
    "nearest_product(users = users, prods = prods, up = up)"
   ]
  },
  {
   "cell_type": "code",
   "execution_count": null,
   "metadata": {},
   "outputs": [],
   "source": []
  }
 ],
 "metadata": {
  "kernelspec": {
   "display_name": "Python 3",
   "language": "python",
   "name": "python3"
  },
  "language_info": {
   "codemirror_mode": {
    "name": "ipython",
    "version": 3
   },
   "file_extension": ".py",
   "mimetype": "text/x-python",
   "name": "python",
   "nbconvert_exporter": "python",
   "pygments_lexer": "ipython3",
   "version": "3.6.5"
  }
 },
 "nbformat": 4,
 "nbformat_minor": 2
}
